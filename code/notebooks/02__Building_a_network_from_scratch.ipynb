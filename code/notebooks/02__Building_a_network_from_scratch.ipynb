{
 "cells": [
  {
   "cell_type": "markdown",
   "metadata": {},
   "source": [
    "# 02. Building a network from scratch\n",
    "\n",
    "In this notebook, we will see how to build a little electrical network from scratch, using the PyPI library. Please note that for all **creating** methods used, you can either provide a **full pandas dataframe** or some **lists of values** for each argument/column.\n",
    "\n",
    "### Importing libraries"
   ]
  },
  {
   "cell_type": "code",
   "execution_count": 32,
   "metadata": {},
   "outputs": [],
   "source": [
    "import pypowsybl as pp \n",
    "import pypowsybl.loadflow as lf\n",
    "import pandas as pd"
   ]
  },
  {
   "cell_type": "markdown",
   "metadata": {},
   "source": [
    "### 1. Creating substation\n",
    "\n",
    "In order to build a network, we will begin by creating the substations we want in our network. Let's suppose we want to create a microgrid focusing on a tie-line between two France and Italie."
   ]
  },
  {
   "cell_type": "code",
   "execution_count": 25,
   "metadata": {},
   "outputs": [
    {
     "data": {
      "text/html": [
       "<div>\n",
       "<style scoped>\n",
       "    .dataframe tbody tr th:only-of-type {\n",
       "        vertical-align: middle;\n",
       "    }\n",
       "\n",
       "    .dataframe tbody tr th {\n",
       "        vertical-align: top;\n",
       "    }\n",
       "\n",
       "    .dataframe thead th {\n",
       "        text-align: right;\n",
       "    }\n",
       "</style>\n",
       "<table border=\"1\" class=\"dataframe\">\n",
       "  <thead>\n",
       "    <tr style=\"text-align: right;\">\n",
       "      <th></th>\n",
       "      <th>name</th>\n",
       "      <th>TSO</th>\n",
       "      <th>geo_tags</th>\n",
       "      <th>country</th>\n",
       "    </tr>\n",
       "    <tr>\n",
       "      <th>id</th>\n",
       "      <th></th>\n",
       "      <th></th>\n",
       "      <th></th>\n",
       "      <th></th>\n",
       "    </tr>\n",
       "  </thead>\n",
       "  <tbody>\n",
       "    <tr>\n",
       "      <th>S1</th>\n",
       "      <td>S1</td>\n",
       "      <td>RTE</td>\n",
       "      <td></td>\n",
       "      <td>FR</td>\n",
       "    </tr>\n",
       "    <tr>\n",
       "      <th>S2</th>\n",
       "      <td>S2</td>\n",
       "      <td>Terna</td>\n",
       "      <td></td>\n",
       "      <td>IT</td>\n",
       "    </tr>\n",
       "  </tbody>\n",
       "</table>\n",
       "</div>"
      ],
      "text/plain": [
       "   name    TSO geo_tags country\n",
       "id                             \n",
       "S1   S1    RTE               FR\n",
       "S2   S2  Terna               IT"
      ]
     },
     "execution_count": 25,
     "metadata": {},
     "output_type": "execute_result"
    }
   ],
   "source": [
    "n = pp.network.create_empty() # create an empty network\n",
    "stations = pd.DataFrame.from_records(index='id', data=[\n",
    "    {'id': 'S1', 'name': 'S1', 'TSO': 'RTE', 'country': 'FR'},\n",
    "    {'id': 'S2', 'name': 'S2', 'TSO': 'Terna', 'country': 'IT'},\n",
    "]) # the substations data we want\n",
    "n.create_substations(stations) # updating the substations in the network\n",
    "n.get_substations() # getting the substations in the network to check if it worked"
   ]
  },
  {
   "cell_type": "markdown",
   "metadata": {},
   "source": [
    "### 2. Creating voltage levels...\n",
    "\n",
    "Then, let’s add some voltage levels inside those substations, this time with a dataframe:"
   ]
  },
  {
   "cell_type": "code",
   "execution_count": 26,
   "metadata": {},
   "outputs": [
    {
     "data": {
      "text/html": [
       "<div>\n",
       "<style scoped>\n",
       "    .dataframe tbody tr th:only-of-type {\n",
       "        vertical-align: middle;\n",
       "    }\n",
       "\n",
       "    .dataframe tbody tr th {\n",
       "        vertical-align: top;\n",
       "    }\n",
       "\n",
       "    .dataframe thead th {\n",
       "        text-align: right;\n",
       "    }\n",
       "</style>\n",
       "<table border=\"1\" class=\"dataframe\">\n",
       "  <thead>\n",
       "    <tr style=\"text-align: right;\">\n",
       "      <th></th>\n",
       "      <th>name</th>\n",
       "      <th>substation_id</th>\n",
       "      <th>nominal_v</th>\n",
       "      <th>high_voltage_limit</th>\n",
       "      <th>low_voltage_limit</th>\n",
       "    </tr>\n",
       "    <tr>\n",
       "      <th>id</th>\n",
       "      <th></th>\n",
       "      <th></th>\n",
       "      <th></th>\n",
       "      <th></th>\n",
       "      <th></th>\n",
       "    </tr>\n",
       "  </thead>\n",
       "  <tbody>\n",
       "    <tr>\n",
       "      <th>VL1</th>\n",
       "      <td></td>\n",
       "      <td>S1</td>\n",
       "      <td>400.0</td>\n",
       "      <td>420.0</td>\n",
       "      <td>380.0</td>\n",
       "    </tr>\n",
       "    <tr>\n",
       "      <th>VL2</th>\n",
       "      <td></td>\n",
       "      <td>S2</td>\n",
       "      <td>400.0</td>\n",
       "      <td>420.0</td>\n",
       "      <td>380.0</td>\n",
       "    </tr>\n",
       "  </tbody>\n",
       "</table>\n",
       "</div>"
      ],
      "text/plain": [
       "    name substation_id  nominal_v  high_voltage_limit  low_voltage_limit\n",
       "id                                                                      \n",
       "VL1                 S1      400.0               420.0              380.0\n",
       "VL2                 S2      400.0               420.0              380.0"
      ]
     },
     "execution_count": 26,
     "metadata": {},
     "output_type": "execute_result"
    }
   ],
   "source": [
    "voltage_levels = pd.DataFrame.from_records(index='id', data=[\n",
    "    {'substation_id': 'S1', 'id': 'VL1', 'topology_kind': 'BUS_BREAKER', 'nominal_v': 400,'high_voltage_limit': 420, 'low_voltage_limit': 380},\n",
    "    {'substation_id': 'S2', 'id': 'VL2', 'topology_kind': 'BUS_BREAKER', 'nominal_v': 400,'high_voltage_limit': 420, 'low_voltage_limit': 380},\n",
    "]) # the voltage levels data we want\n",
    "n.create_voltage_levels(voltage_levels) # updating the voltage levels in the network\t\n",
    "n.get_voltage_levels() # getting the voltage levels in the network to check if it worked"
   ]
  },
  {
   "cell_type": "markdown",
   "metadata": {},
   "source": [
    "### 3. Creating buses & lines\n",
    "\n",
    "Now, we will create the buses of our network. We will create a bus for each voltage level we have created before."
   ]
  },
  {
   "cell_type": "code",
   "execution_count": null,
   "metadata": {},
   "outputs": [
    {
     "data": {
      "text/html": [
       "<div>\n",
       "<style scoped>\n",
       "    .dataframe tbody tr th:only-of-type {\n",
       "        vertical-align: middle;\n",
       "    }\n",
       "\n",
       "    .dataframe tbody tr th {\n",
       "        vertical-align: top;\n",
       "    }\n",
       "\n",
       "    .dataframe thead th {\n",
       "        text-align: right;\n",
       "    }\n",
       "</style>\n",
       "<table border=\"1\" class=\"dataframe\">\n",
       "  <thead>\n",
       "    <tr style=\"text-align: right;\">\n",
       "      <th></th>\n",
       "      <th>name</th>\n",
       "      <th>v_mag</th>\n",
       "      <th>v_angle</th>\n",
       "      <th>connected_component</th>\n",
       "      <th>synchronous_component</th>\n",
       "      <th>voltage_level_id</th>\n",
       "    </tr>\n",
       "    <tr>\n",
       "      <th>id</th>\n",
       "      <th></th>\n",
       "      <th></th>\n",
       "      <th></th>\n",
       "      <th></th>\n",
       "      <th></th>\n",
       "      <th></th>\n",
       "    </tr>\n",
       "  </thead>\n",
       "  <tbody>\n",
       "  </tbody>\n",
       "</table>\n",
       "</div>"
      ],
      "text/plain": [
       "Empty DataFrame\n",
       "Columns: [name, v_mag, v_angle, connected_component, synchronous_component, voltage_level_id]\n",
       "Index: []"
      ]
     },
     "execution_count": 27,
     "metadata": {},
     "output_type": "execute_result"
    }
   ],
   "source": [
    "buses = pd.DataFrame.from_records(index='id', data=[\n",
    "    {'voltage_level_id': 'VL1', 'id': 'B1',},\n",
    "    {'voltage_level_id': 'VL2', 'id': 'B2',},\n",
    "]) # the buses data we want\n",
    "\n",
    "n.create_buses(buses) # updating the buses in the network"
   ]
  },
  {
   "cell_type": "code",
   "execution_count": 28,
   "metadata": {},
   "outputs": [],
   "source": [
    "n.create_lines(id='LINE', voltage_level1_id='VL1', bus1_id='B1',\n",
    "                     voltage_level2_id='VL2', bus2_id='B2',\n",
    "                     b1=0, b2=0, g1=0, g2=0, r=0.5, x=10)"
   ]
  },
  {
   "cell_type": "code",
   "execution_count": null,
   "metadata": {},
   "outputs": [
    {
     "data": {
      "text/html": [
       "<div>\n",
       "<style scoped>\n",
       "    .dataframe tbody tr th:only-of-type {\n",
       "        vertical-align: middle;\n",
       "    }\n",
       "\n",
       "    .dataframe tbody tr th {\n",
       "        vertical-align: top;\n",
       "    }\n",
       "\n",
       "    .dataframe thead th {\n",
       "        text-align: right;\n",
       "    }\n",
       "</style>\n",
       "<table border=\"1\" class=\"dataframe\">\n",
       "  <thead>\n",
       "    <tr style=\"text-align: right;\">\n",
       "      <th></th>\n",
       "      <th>name</th>\n",
       "      <th>v_mag</th>\n",
       "      <th>v_angle</th>\n",
       "      <th>connected_component</th>\n",
       "      <th>synchronous_component</th>\n",
       "      <th>voltage_level_id</th>\n",
       "    </tr>\n",
       "    <tr>\n",
       "      <th>id</th>\n",
       "      <th></th>\n",
       "      <th></th>\n",
       "      <th></th>\n",
       "      <th></th>\n",
       "      <th></th>\n",
       "      <th></th>\n",
       "    </tr>\n",
       "  </thead>\n",
       "  <tbody>\n",
       "    <tr>\n",
       "      <th>VL1_0</th>\n",
       "      <td></td>\n",
       "      <td>NaN</td>\n",
       "      <td>NaN</td>\n",
       "      <td>0</td>\n",
       "      <td>0</td>\n",
       "      <td>VL1</td>\n",
       "    </tr>\n",
       "    <tr>\n",
       "      <th>VL2_0</th>\n",
       "      <td></td>\n",
       "      <td>NaN</td>\n",
       "      <td>NaN</td>\n",
       "      <td>0</td>\n",
       "      <td>0</td>\n",
       "      <td>VL2</td>\n",
       "    </tr>\n",
       "  </tbody>\n",
       "</table>\n",
       "</div>"
      ],
      "text/plain": [
       "      name  v_mag  v_angle  connected_component  synchronous_component  \\\n",
       "id                                                                       \n",
       "VL1_0         NaN      NaN                    0                      0   \n",
       "VL2_0         NaN      NaN                    0                      0   \n",
       "\n",
       "      voltage_level_id  \n",
       "id                      \n",
       "VL1_0              VL1  \n",
       "VL2_0              VL2  "
      ]
     },
     "execution_count": 29,
     "metadata": {},
     "output_type": "execute_result"
    }
   ],
   "source": [
    "n.get_buses() # getting the buses in the network to check if it worked"
   ]
  },
  {
   "cell_type": "code",
   "execution_count": 30,
   "metadata": {},
   "outputs": [
    {
     "data": {
      "text/html": [
       "<div>\n",
       "<style scoped>\n",
       "    .dataframe tbody tr th:only-of-type {\n",
       "        vertical-align: middle;\n",
       "    }\n",
       "\n",
       "    .dataframe tbody tr th {\n",
       "        vertical-align: top;\n",
       "    }\n",
       "\n",
       "    .dataframe thead th {\n",
       "        text-align: right;\n",
       "    }\n",
       "</style>\n",
       "<table border=\"1\" class=\"dataframe\">\n",
       "  <thead>\n",
       "    <tr style=\"text-align: right;\">\n",
       "      <th></th>\n",
       "      <th>name</th>\n",
       "      <th>r</th>\n",
       "      <th>x</th>\n",
       "      <th>g1</th>\n",
       "      <th>b1</th>\n",
       "      <th>g2</th>\n",
       "      <th>b2</th>\n",
       "      <th>p1</th>\n",
       "      <th>q1</th>\n",
       "      <th>i1</th>\n",
       "      <th>p2</th>\n",
       "      <th>q2</th>\n",
       "      <th>i2</th>\n",
       "      <th>voltage_level1_id</th>\n",
       "      <th>voltage_level2_id</th>\n",
       "      <th>bus1_id</th>\n",
       "      <th>bus2_id</th>\n",
       "      <th>connected1</th>\n",
       "      <th>connected2</th>\n",
       "    </tr>\n",
       "    <tr>\n",
       "      <th>id</th>\n",
       "      <th></th>\n",
       "      <th></th>\n",
       "      <th></th>\n",
       "      <th></th>\n",
       "      <th></th>\n",
       "      <th></th>\n",
       "      <th></th>\n",
       "      <th></th>\n",
       "      <th></th>\n",
       "      <th></th>\n",
       "      <th></th>\n",
       "      <th></th>\n",
       "      <th></th>\n",
       "      <th></th>\n",
       "      <th></th>\n",
       "      <th></th>\n",
       "      <th></th>\n",
       "      <th></th>\n",
       "      <th></th>\n",
       "    </tr>\n",
       "  </thead>\n",
       "  <tbody>\n",
       "    <tr>\n",
       "      <th>LINE</th>\n",
       "      <td></td>\n",
       "      <td>0.5</td>\n",
       "      <td>10.0</td>\n",
       "      <td>0.0</td>\n",
       "      <td>0.0</td>\n",
       "      <td>0.0</td>\n",
       "      <td>0.0</td>\n",
       "      <td>NaN</td>\n",
       "      <td>NaN</td>\n",
       "      <td>NaN</td>\n",
       "      <td>NaN</td>\n",
       "      <td>NaN</td>\n",
       "      <td>NaN</td>\n",
       "      <td>VL1</td>\n",
       "      <td>VL2</td>\n",
       "      <td>VL1_0</td>\n",
       "      <td>VL2_0</td>\n",
       "      <td>True</td>\n",
       "      <td>True</td>\n",
       "    </tr>\n",
       "  </tbody>\n",
       "</table>\n",
       "</div>"
      ],
      "text/plain": [
       "     name    r     x   g1   b1   g2   b2  p1  q1  i1  p2  q2  i2  \\\n",
       "id                                                                 \n",
       "LINE       0.5  10.0  0.0  0.0  0.0  0.0 NaN NaN NaN NaN NaN NaN   \n",
       "\n",
       "     voltage_level1_id voltage_level2_id bus1_id bus2_id  connected1  \\\n",
       "id                                                                     \n",
       "LINE               VL1               VL2   VL1_0   VL2_0        True   \n",
       "\n",
       "      connected2  \n",
       "id                \n",
       "LINE        True  "
      ]
     },
     "execution_count": 30,
     "metadata": {},
     "output_type": "execute_result"
    }
   ],
   "source": [
    "n.get_lines() # getting the lines in the network to check if it worked"
   ]
  },
  {
   "cell_type": "markdown",
   "metadata": {},
   "source": [
    "### Creating load and generators\n",
    "\n",
    "Now, we will create the loads and generators of our network. We will create a load and a generator for each bus we have created before."
   ]
  },
  {
   "cell_type": "code",
   "execution_count": null,
   "metadata": {},
   "outputs": [],
   "source": [
    "n.create_loads(id='LOAD', voltage_level_id='VL2', bus_id='B2', p0=100, q0=10)\n",
    "n.create_generators(id='GEN', voltage_level_id='VL1', bus_id='B1',\n",
    "                          min_p=0, max_p=200, target_p=100,\n",
    "                          voltage_regulator_on=True, target_v=400)  \n"
   ]
  },
  {
   "cell_type": "code",
   "execution_count": null,
   "metadata": {},
   "outputs": [],
   "source": [
    "res = lf.run_ac(n) # running the load flow\n",
    "str(res[0].status)"
   ]
  }
 ],
 "metadata": {
  "kernelspec": {
   "display_name": ".venv",
   "language": "python",
   "name": "python3"
  },
  "language_info": {
   "codemirror_mode": {
    "name": "ipython",
    "version": 3
   },
   "file_extension": ".py",
   "mimetype": "text/x-python",
   "name": "python",
   "nbconvert_exporter": "python",
   "pygments_lexer": "ipython3",
   "version": "3.12.5"
  }
 },
 "nbformat": 4,
 "nbformat_minor": 2
}
