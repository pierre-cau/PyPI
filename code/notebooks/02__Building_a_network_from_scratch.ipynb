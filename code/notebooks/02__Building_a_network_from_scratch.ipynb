{
 "cells": [
  {
   "cell_type": "code",
   "execution_count": 1,
   "metadata": {},
   "outputs": [],
   "source": [
    "import pypowsybl as pp \n",
    "import pandas as pd"
   ]
  },
  {
   "cell_type": "code",
   "execution_count": null,
   "metadata": {},
   "outputs": [
    {
     "ename": "ValueError",
     "evalue": "No column named geo_tags",
     "output_type": "error",
     "traceback": [
      "\u001b[1;31m---------------------------------------------------------------------------\u001b[0m",
      "\u001b[1;31mValueError\u001b[0m                                Traceback (most recent call last)",
      "Cell \u001b[1;32mIn[18], line 6\u001b[0m\n\u001b[0;32m      1\u001b[0m n \u001b[38;5;241m=\u001b[39m pp\u001b[38;5;241m.\u001b[39mnetwork\u001b[38;5;241m.\u001b[39mcreate_empty()\n\u001b[0;32m      2\u001b[0m stations \u001b[38;5;241m=\u001b[39m pd\u001b[38;5;241m.\u001b[39mDataFrame\u001b[38;5;241m.\u001b[39mfrom_records(index\u001b[38;5;241m=\u001b[39m\u001b[38;5;124m'\u001b[39m\u001b[38;5;124mid\u001b[39m\u001b[38;5;124m'\u001b[39m, data\u001b[38;5;241m=\u001b[39m[\n\u001b[0;32m      3\u001b[0m     {\u001b[38;5;124m'\u001b[39m\u001b[38;5;124mid\u001b[39m\u001b[38;5;124m'\u001b[39m: \u001b[38;5;124m'\u001b[39m\u001b[38;5;124mS1\u001b[39m\u001b[38;5;124m'\u001b[39m, \u001b[38;5;124m'\u001b[39m\u001b[38;5;124mname\u001b[39m\u001b[38;5;124m'\u001b[39m: \u001b[38;5;124m'\u001b[39m\u001b[38;5;124mS1\u001b[39m\u001b[38;5;124m'\u001b[39m, \u001b[38;5;124m'\u001b[39m\u001b[38;5;124mTSO\u001b[39m\u001b[38;5;124m'\u001b[39m: \u001b[38;5;124m'\u001b[39m\u001b[38;5;124mRTE\u001b[39m\u001b[38;5;124m'\u001b[39m, \u001b[38;5;124m'\u001b[39m\u001b[38;5;124mgeo_tags\u001b[39m\u001b[38;5;124m'\u001b[39m: \u001b[38;5;124m'\u001b[39m\u001b[38;5;124mA\u001b[39m\u001b[38;5;124m'\u001b[39m, \u001b[38;5;124m'\u001b[39m\u001b[38;5;124mcountry\u001b[39m\u001b[38;5;124m'\u001b[39m: \u001b[38;5;124m'\u001b[39m\u001b[38;5;124mFR\u001b[39m\u001b[38;5;124m'\u001b[39m},\n\u001b[0;32m      4\u001b[0m     {\u001b[38;5;124m'\u001b[39m\u001b[38;5;124mid\u001b[39m\u001b[38;5;124m'\u001b[39m: \u001b[38;5;124m'\u001b[39m\u001b[38;5;124mS2\u001b[39m\u001b[38;5;124m'\u001b[39m, \u001b[38;5;124m'\u001b[39m\u001b[38;5;124mname\u001b[39m\u001b[38;5;124m'\u001b[39m: \u001b[38;5;124m'\u001b[39m\u001b[38;5;124mS2\u001b[39m\u001b[38;5;124m'\u001b[39m, \u001b[38;5;124m'\u001b[39m\u001b[38;5;124mTSO\u001b[39m\u001b[38;5;124m'\u001b[39m: \u001b[38;5;124m'\u001b[39m\u001b[38;5;124mTerna\u001b[39m\u001b[38;5;124m'\u001b[39m, \u001b[38;5;124m'\u001b[39m\u001b[38;5;124mgeo_tags\u001b[39m\u001b[38;5;124m'\u001b[39m: \u001b[38;5;124m'\u001b[39m\u001b[38;5;124mB\u001b[39m\u001b[38;5;124m'\u001b[39m, \u001b[38;5;124m'\u001b[39m\u001b[38;5;124mcountry\u001b[39m\u001b[38;5;124m'\u001b[39m: \u001b[38;5;124m'\u001b[39m\u001b[38;5;124mIT\u001b[39m\u001b[38;5;124m'\u001b[39m},\n\u001b[0;32m      5\u001b[0m ])\n\u001b[1;32m----> 6\u001b[0m \u001b[43mn\u001b[49m\u001b[38;5;241;43m.\u001b[39;49m\u001b[43mcreate_substations\u001b[49m\u001b[43m(\u001b[49m\u001b[43mstations\u001b[49m\u001b[43m)\u001b[49m\n\u001b[0;32m      7\u001b[0m n\u001b[38;5;241m.\u001b[39mget_substations()\n",
      "File \u001b[1;32mc:\\Users\\pcau2\\Documents\\MON_ESPACE\\Projets\\PowSyBl\\pypowsybl\\.venv\\Lib\\site-packages\\pypowsybl\\network\\impl\\network.py:3750\u001b[0m, in \u001b[0;36mNetwork.create_substations\u001b[1;34m(self, df, **kwargs)\u001b[0m\n\u001b[0;32m   3714\u001b[0m \u001b[38;5;28;01mdef\u001b[39;00m \u001b[38;5;21mcreate_substations\u001b[39m(\u001b[38;5;28mself\u001b[39m, df: DataFrame \u001b[38;5;241m=\u001b[39m \u001b[38;5;28;01mNone\u001b[39;00m, \u001b[38;5;241m*\u001b[39m\u001b[38;5;241m*\u001b[39mkwargs: ArrayLike) \u001b[38;5;241m-\u001b[39m\u001b[38;5;241m>\u001b[39m \u001b[38;5;28;01mNone\u001b[39;00m:\n\u001b[0;32m   3715\u001b[0m \u001b[38;5;250m    \u001b[39m\u001b[38;5;124;03m\"\"\"\u001b[39;00m\n\u001b[0;32m   3716\u001b[0m \u001b[38;5;124;03m    Creates substations.\u001b[39;00m\n\u001b[0;32m   3717\u001b[0m \n\u001b[1;32m   (...)\u001b[0m\n\u001b[0;32m   3748\u001b[0m \u001b[38;5;124;03m            network.create_substations(stations)\u001b[39;00m\n\u001b[0;32m   3749\u001b[0m \u001b[38;5;124;03m    \"\"\"\u001b[39;00m\n\u001b[1;32m-> 3750\u001b[0m     \u001b[38;5;28;43mself\u001b[39;49m\u001b[38;5;241;43m.\u001b[39;49m\u001b[43m_create_elements\u001b[49m\u001b[43m(\u001b[49m\u001b[43mElementType\u001b[49m\u001b[38;5;241;43m.\u001b[39;49m\u001b[43mSUBSTATION\u001b[49m\u001b[43m,\u001b[49m\u001b[43m \u001b[49m\u001b[43m[\u001b[49m\u001b[43mdf\u001b[49m\u001b[43m]\u001b[49m\u001b[43m,\u001b[49m\u001b[43m \u001b[49m\u001b[38;5;241;43m*\u001b[39;49m\u001b[38;5;241;43m*\u001b[39;49m\u001b[43mkwargs\u001b[49m\u001b[43m)\u001b[49m\n",
      "File \u001b[1;32mc:\\Users\\pcau2\\Documents\\MON_ESPACE\\Projets\\PowSyBl\\pypowsybl\\.venv\\Lib\\site-packages\\pypowsybl\\network\\impl\\network.py:3706\u001b[0m, in \u001b[0;36mNetwork._create_elements\u001b[1;34m(self, element_type, dfs, **kwargs)\u001b[0m\n\u001b[0;32m   3703\u001b[0m \u001b[38;5;28;01mdef\u001b[39;00m \u001b[38;5;21m_create_elements\u001b[39m(\u001b[38;5;28mself\u001b[39m, element_type: ElementType, dfs: List[Optional[DataFrame]],\n\u001b[0;32m   3704\u001b[0m                      \u001b[38;5;241m*\u001b[39m\u001b[38;5;241m*\u001b[39mkwargs: ArrayLike) \u001b[38;5;241m-\u001b[39m\u001b[38;5;241m>\u001b[39m \u001b[38;5;28;01mNone\u001b[39;00m:\n\u001b[0;32m   3705\u001b[0m     metadata \u001b[38;5;241m=\u001b[39m _pp\u001b[38;5;241m.\u001b[39mget_network_elements_creation_dataframes_metadata(element_type)\n\u001b[1;32m-> 3706\u001b[0m     c_dfs \u001b[38;5;241m=\u001b[39m \u001b[43m_get_c_dataframes\u001b[49m\u001b[43m(\u001b[49m\u001b[43mdfs\u001b[49m\u001b[43m,\u001b[49m\u001b[43m \u001b[49m\u001b[43mmetadata\u001b[49m\u001b[43m,\u001b[49m\u001b[43m \u001b[49m\u001b[38;5;241;43m*\u001b[39;49m\u001b[38;5;241;43m*\u001b[39;49m\u001b[43mkwargs\u001b[49m\u001b[43m)\u001b[49m\n\u001b[0;32m   3707\u001b[0m     _pp\u001b[38;5;241m.\u001b[39mcreate_element(\u001b[38;5;28mself\u001b[39m\u001b[38;5;241m.\u001b[39m_handle, c_dfs, element_type)\n",
      "File \u001b[1;32mc:\\Users\\pcau2\\Documents\\MON_ESPACE\\Projets\\PowSyBl\\pypowsybl\\.venv\\Lib\\site-packages\\pypowsybl\\utils\\impl\\dataframes.py:186\u001b[0m, in \u001b[0;36m_get_c_dataframes\u001b[1;34m(dfs, metadata, **kwargs)\u001b[0m\n\u001b[0;32m    184\u001b[0m         c_dfs\u001b[38;5;241m.\u001b[39mappend(\u001b[38;5;28;01mNone\u001b[39;00m)\n\u001b[0;32m    185\u001b[0m     \u001b[38;5;28;01melse\u001b[39;00m:\n\u001b[1;32m--> 186\u001b[0m         c_dfs\u001b[38;5;241m.\u001b[39mappend(\u001b[43m_create_c_dataframe\u001b[49m\u001b[43m(\u001b[49m\u001b[43mdf\u001b[49m\u001b[43m,\u001b[49m\u001b[43m \u001b[49m\u001b[43mmetadata\u001b[49m\u001b[43m[\u001b[49m\u001b[43mi\u001b[49m\u001b[43m]\u001b[49m\u001b[43m)\u001b[49m)\n\u001b[0;32m    187\u001b[0m \u001b[38;5;28;01mreturn\u001b[39;00m c_dfs\n",
      "File \u001b[1;32mc:\\Users\\pcau2\\Documents\\MON_ESPACE\\Projets\\PowSyBl\\pypowsybl\\.venv\\Lib\\site-packages\\pypowsybl\\utils\\impl\\dataframes.py:101\u001b[0m, in \u001b[0;36m_create_c_dataframe\u001b[1;34m(df, series_metadata)\u001b[0m\n\u001b[0;32m     99\u001b[0m \u001b[38;5;28;01mfor\u001b[39;00m series_name \u001b[38;5;129;01min\u001b[39;00m df\u001b[38;5;241m.\u001b[39mcolumns\u001b[38;5;241m.\u001b[39mvalues:\n\u001b[0;32m    100\u001b[0m     \u001b[38;5;28;01mif\u001b[39;00m series_name \u001b[38;5;129;01mnot\u001b[39;00m \u001b[38;5;129;01min\u001b[39;00m metadata_by_name:\n\u001b[1;32m--> 101\u001b[0m         \u001b[38;5;28;01mraise\u001b[39;00m \u001b[38;5;167;01mValueError\u001b[39;00m(\u001b[38;5;124mf\u001b[39m\u001b[38;5;124m'\u001b[39m\u001b[38;5;124mNo column named \u001b[39m\u001b[38;5;132;01m{\u001b[39;00mseries_name\u001b[38;5;132;01m}\u001b[39;00m\u001b[38;5;124m'\u001b[39m)\n\u001b[0;32m    102\u001b[0m     series \u001b[38;5;241m=\u001b[39m df[series_name]\n\u001b[0;32m    103\u001b[0m     series_type \u001b[38;5;241m=\u001b[39m metadata_by_name[series_name]\u001b[38;5;241m.\u001b[39mtype\n",
      "\u001b[1;31mValueError\u001b[0m: No column named geo_tags"
     ]
    }
   ],
   "source": [
    "n = pp.network.create_empty()\n",
    "stations = pd.DataFrame.from_records(index='id', data=[\n",
    "    {'id': 'S1', 'name': 'S1', 'TSO': 'RTE', 'country': 'FR'},\n",
    "    {'id': 'S2', 'name': 'S2', 'TSO': 'Terna', 'country': 'IT'},\n",
    "])\n",
    "n.create_substations(stations)\n",
    "n.get_substations()"
   ]
  },
  {
   "cell_type": "code",
   "execution_count": null,
   "metadata": {},
   "outputs": [],
   "source": []
  }
 ],
 "metadata": {
  "kernelspec": {
   "display_name": ".venv",
   "language": "python",
   "name": "python3"
  },
  "language_info": {
   "codemirror_mode": {
    "name": "ipython",
    "version": 3
   },
   "file_extension": ".py",
   "mimetype": "text/x-python",
   "name": "python",
   "nbconvert_exporter": "python",
   "pygments_lexer": "ipython3",
   "version": "3.12.5"
  }
 },
 "nbformat": 4,
 "nbformat_minor": 2
}
